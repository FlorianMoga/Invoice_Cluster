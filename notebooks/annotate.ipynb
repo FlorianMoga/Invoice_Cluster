{
 "cells": [
  {
   "cell_type": "code",
   "execution_count": 15,
   "id": "44bcb68b",
   "metadata": {},
   "outputs": [],
   "source": [
    "import xml.etree.ElementTree as ET"
   ]
  },
  {
   "cell_type": "code",
   "execution_count": 16,
   "id": "f0b3e094",
   "metadata": {},
   "outputs": [],
   "source": [
    "import os\n",
    "import cv2"
   ]
  },
  {
   "cell_type": "code",
   "execution_count": 17,
   "id": "df5b9ee4",
   "metadata": {},
   "outputs": [],
   "source": [
    "ROOT_DIR = r\"C:\\Users\\Florian Moga\\Desktop\\Datasets\\Logodet-3K\""
   ]
  },
  {
   "cell_type": "code",
   "execution_count": 18,
   "id": "e1a87ef6",
   "metadata": {},
   "outputs": [],
   "source": [
    "# returns shape and bbox coordinates\n",
    "def get_dims_and_coords(path):\n",
    "    tree = ET.parse(path)\n",
    "    root = tree.getroot()\n",
    "    # w and h\n",
    "    shape = []\n",
    "    # bbox list of xmin ymin xmax ymax\n",
    "    bbox = []\n",
    "    for size in root.iter('size'):\n",
    "        for width in size.iter('width'):\n",
    "            shape.append(int(width.text))\n",
    "        for height in size.iter('height'):\n",
    "            shape.append(int(height.text))\n",
    "    for bb in root.iter('object'):\n",
    "        for coord in bb.iter('bndbox'):\n",
    "            coords = []\n",
    "            for xmin in coord.iter('xmin'):\n",
    "                coords.append(int(xmin.text))\n",
    "            for ymin in coord.iter('ymin'):\n",
    "                coords.append(int(ymin.text))\n",
    "            for xmax in coord.iter('xmax'):\n",
    "                coords.append(int(xmax.text))\n",
    "            for ymax in coord.iter('ymax'):\n",
    "                coords.append(int(ymax.text))\n",
    "        bbox.append(coords)\n",
    "        \n",
    "    return shape, bbox"
   ]
  },
  {
   "cell_type": "code",
   "execution_count": 19,
   "id": "e80e3dce",
   "metadata": {},
   "outputs": [],
   "source": [
    "def draw_bb(img_pt, coords):\n",
    "    img = cv2.imread(img_pt)\n",
    "    for box in coords:\n",
    "        img = cv2.rectangle(img, (box[0], box[1]), (box[2], box[3]), (0,0,255), 1)\n",
    "    cv2.imshow(\"ex\", img)\n",
    "    cv2.waitKey(0)\n",
    "    cv2.destroyAllWindows()"
   ]
  },
  {
   "cell_type": "code",
   "execution_count": null,
   "id": "af60d0bc",
   "metadata": {},
   "outputs": [],
   "source": [
    "for path, subdirs, files in os.walk(ROOT_DIR):\n",
    "    for name in files:\n",
    "        pt = os.path.join(path, name)\n",
    "        extension = pt[-3:]\n",
    "        if extension == \"xml\":\n",
    "            shape, bbox = get_dims_and_coords(pt)\n",
    "            ph_path = pt[:-3] + \"jpg\"\n",
    "            draw_bb(ph_path, bbox)"
   ]
  },
  {
   "cell_type": "code",
   "execution_count": 22,
   "id": "bec0ff34",
   "metadata": {},
   "outputs": [],
   "source": [
    "xml_example = r\"C:\\Users\\Florian Moga\\Desktop\\Datasets\\LogoDet-3K\\Sports\\Asics\\14.xml\"\n",
    "shape, bbox = get_dims_and_coords(xml_example)"
   ]
  },
  {
   "cell_type": "code",
   "execution_count": 24,
   "id": "3de1fdf2",
   "metadata": {},
   "outputs": [
    {
     "data": {
      "text/plain": [
       "[[1, 2, 442, 182], [1, 175, 440, 360]]"
      ]
     },
     "execution_count": 24,
     "metadata": {},
     "output_type": "execute_result"
    }
   ],
   "source": [
    "bbox"
   ]
  },
  {
   "cell_type": "code",
   "execution_count": 23,
   "id": "c0d9c8e7",
   "metadata": {},
   "outputs": [],
   "source": [
    "img_example_pt = r\"C:\\Users\\Florian Moga\\Desktop\\Datasets\\LogoDet-3K\\Sports\\Asics\\14.jpg\"\n",
    "draw_bb(img_example_pt, bbox)"
   ]
  },
  {
   "cell_type": "code",
   "execution_count": 2,
   "id": "e1a9c477",
   "metadata": {},
   "outputs": [
    {
     "data": {
      "text/plain": [
       "'C:\\\\Users\\\\Florian Moga\\\\Desktop\\\\Facultate\\\\licenta\\\\datasets\\\\LogoDet-3K\\\\Sports\\\\Asics\\\\14.jpg'"
      ]
     },
     "execution_count": 2,
     "metadata": {},
     "output_type": "execute_result"
    }
   ],
   "source": [
    "img_example_pt = r\"C:\\Users\\Florian Moga\\Desktop\\Facultate\\licenta\\datasets\\LogoDet-3K\\Sports\\Asics\\14.jpg\"\n",
    "img_example_pt"
   ]
  },
  {
   "cell_type": "code",
   "execution_count": 10,
   "id": "3c57ab08",
   "metadata": {},
   "outputs": [],
   "source": [
    "# get new filename from absolute path\n",
    "new_filename = ''.join(img_example_pt.split(\"\\\\\")[-4:])"
   ]
  },
  {
   "cell_type": "code",
   "execution_count": 13,
   "id": "f8af92f9",
   "metadata": {},
   "outputs": [],
   "source": [
    "# create gt annot file\n",
    "new_annotfile = new_filename[:-3]+\"txt\""
   ]
  },
  {
   "cell_type": "code",
   "execution_count": 14,
   "id": "7e8d8cb2",
   "metadata": {},
   "outputs": [
    {
     "data": {
      "text/plain": [
       "'LogoDet-3KSportsAsics14.txt'"
      ]
     },
     "execution_count": 14,
     "metadata": {},
     "output_type": "execute_result"
    }
   ],
   "source": [
    "new_annotfile"
   ]
  },
  {
   "cell_type": "code",
   "execution_count": null,
   "id": "4f20a0b3",
   "metadata": {},
   "outputs": [],
   "source": [
    "f = open(new_annotfile, \"w+\")"
   ]
  }
 ],
 "metadata": {
  "kernelspec": {
   "display_name": "Python 3 (ipykernel)",
   "language": "python",
   "name": "python3"
  },
  "language_info": {
   "codemirror_mode": {
    "name": "ipython",
    "version": 3
   },
   "file_extension": ".py",
   "mimetype": "text/x-python",
   "name": "python",
   "nbconvert_exporter": "python",
   "pygments_lexer": "ipython3",
   "version": "3.10.10"
  }
 },
 "nbformat": 4,
 "nbformat_minor": 5
}

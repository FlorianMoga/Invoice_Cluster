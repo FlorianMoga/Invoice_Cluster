{
 "cells": [
  {
   "cell_type": "code",
   "execution_count": 3,
   "id": "b674f23c",
   "metadata": {},
   "outputs": [],
   "source": [
    "import cv2\n",
    "import numpy as np\n",
    "from skimage.util import random_noise\n",
    "import random"
   ]
  },
  {
   "cell_type": "code",
   "execution_count": 4,
   "id": "d2bf8f38",
   "metadata": {},
   "outputs": [],
   "source": [
    "pdf_image_path = r\"S:\\books_to_images_ionut\\linux_Page_0002.jpg\""
   ]
  },
  {
   "cell_type": "code",
   "execution_count": 5,
   "id": "6f4d9e30",
   "metadata": {},
   "outputs": [],
   "source": [
    "def augment_pdf_to_mobile(image_path):\n",
    "    # Load the PDF image\n",
    "    pdf_image = cv2.imread(image_path)\n",
    "\n",
    "    # Add random noise to simulate inaccuracies\n",
    "    noisy_image = random_noise(pdf_image, mode='gaussian', var=0.01)\n",
    "\n",
    "    # Simulate shadows by darkening the entire image\n",
    "    shadow_intensity = random.uniform(0.4, 0.9)  # Adjust the shadow intensity based on your requirements\n",
    "    shadowed_image = noisy_image * shadow_intensity\n",
    "\n",
    "    return shadowed_image\n",
    "\n",
    "# Usage example\n",
    "augmented_image = augment_pdf_to_mobile(pdf_image_path)\n",
    "\n",
    "cv2.imshow('Augmented Image', augmented_image)\n",
    "cv2.waitKey(0)\n",
    "cv2.destroyAllWindows()"
   ]
  },
  {
   "cell_type": "code",
   "execution_count": null,
   "id": "4836f595",
   "metadata": {},
   "outputs": [],
   "source": [
    "import cv2\n",
    "import numpy as np\n",
    "import random\n",
    "\n",
    "def apply_random_perspective(image_path):\n",
    "    \n",
    "    image = augment_pdf_to_mobile(image_path)\n",
    "    height, width = image.shape[:2]\n",
    "\n",
    "    # Define the source and destination points for perspective transformation\n",
    "    src_points = np.float32([[0, 0], [width - 1, 0], [width - 1, height - 1], [0, height - 1]])\n",
    "\n",
    "    # Calculate the maximum displacement limit\n",
    "    max_displacement = int(min(width, height) * 0.1)\n",
    "\n",
    "    # Generate random positive displacements for each corner of the image\n",
    "    displacement_range = np.random.randint(0, max_displacement + 1, size=(4, 2))\n",
    "\n",
    "    dst_points = np.zeros((4, 2), dtype=np.float32)\n",
    "    \n",
    "    dst_points[0][0], dst_points[0][1] = src_points[0][0] + displacement_range[0][0], src_points[0][1] + displacement_range[0][1]\n",
    "    dst_points[1][0], dst_points[1][1] = src_points[1][0] - displacement_range[1][0], src_points[1][1] + displacement_range[1][1]\n",
    "    dst_points[2][0], dst_points[2][1] = src_points[2][0] - displacement_range[2][0], src_points[2][1] - displacement_range[2][1]\n",
    "    dst_points[3][0], dst_points[3][1] = src_points[3][0] + displacement_range[3][0], src_points[3][1] - displacement_range[3][1]\n",
    "    \n",
    "    # Generate random perspective transformation matrix\n",
    "    perspective_matrix = cv2.getPerspectiveTransform(src_points, dst_points)\n",
    "    print(perspective_matrix)\n",
    "\n",
    "    # Apply the perspective transformation to the image\n",
    "    transformed_image = cv2.warpPerspective(image, perspective_matrix, (width, height))\n",
    "\n",
    "    return transformed_image\n",
    "\n",
    "# Usage example\n",
    "transformed_image = apply_random_perspective(pdf_image_path)\n",
    "\n",
    "cv2.imshow('Transformed Image', transformed_image)\n",
    "cv2.waitKey(0)\n",
    "cv2.destroyAllWindows()"
   ]
  },
  {
   "cell_type": "code",
   "execution_count": null,
   "id": "0938f957",
   "metadata": {},
   "outputs": [],
   "source": []
  },
  {
   "cell_type": "code",
   "execution_count": null,
   "id": "70b1703d",
   "metadata": {},
   "outputs": [],
   "source": []
  }
 ],
 "metadata": {
  "kernelspec": {
   "display_name": "Python 3 (ipykernel)",
   "language": "python",
   "name": "python3"
  },
  "language_info": {
   "codemirror_mode": {
    "name": "ipython",
    "version": 3
   },
   "file_extension": ".py",
   "mimetype": "text/x-python",
   "name": "python",
   "nbconvert_exporter": "python",
   "pygments_lexer": "ipython3",
   "version": "3.10.10"
  }
 },
 "nbformat": 4,
 "nbformat_minor": 5
}

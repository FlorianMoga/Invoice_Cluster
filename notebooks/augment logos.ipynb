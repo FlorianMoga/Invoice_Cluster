{
 "cells": [
  {
   "cell_type": "code",
   "execution_count": 1,
   "id": "4dd0a231",
   "metadata": {},
   "outputs": [],
   "source": [
    "import os\n",
    "import shutil\n",
    "import cv2\n",
    "import random\n",
    "import glob\n",
    "from skimage.util import random_noise\n",
    "import numpy as np\n",
    "import shutil"
   ]
  },
  {
   "cell_type": "code",
   "execution_count": 2,
   "id": "49a9f0f4",
   "metadata": {},
   "outputs": [
    {
     "data": {
      "text/plain": [
       "'S:\\\\Logo2k+ for classification augmentedv2'"
      ]
     },
     "execution_count": 2,
     "metadata": {},
     "output_type": "execute_result"
    }
   ],
   "source": [
    "# defining the function to ignore the files\n",
    "# if present in any folder\n",
    "def ignore_files(dir, files):\n",
    "    return [f for f in files if os.path.isfile(os.path.join(dir, f))]\n",
    " \n",
    "# calling the shutil.copytree() method and\n",
    "# passing the src,dst,and ignore parameter\n",
    "shutil.copytree(r\"S:\\Logo2k+ for classification\",\n",
    "                r\"S:\\Logo2k+ for classification augmentedv2\",\n",
    "                ignore=ignore_files)"
   ]
  },
  {
   "cell_type": "code",
   "execution_count": 3,
   "id": "f146d5c3",
   "metadata": {},
   "outputs": [],
   "source": [
    "def augment_pdf_to_mobile(image):\n",
    "    # Add random noise to simulate inaccuracies\n",
    "    noisy_image = random_noise(image, mode='gaussian', var=0.01)\n",
    "\n",
    "    # Simulate shadows by darkening the entire image\n",
    "    shadow_intensity = random.uniform(0.4, 0.9)  # Adjust the shadow intensity based on your requirements\n",
    "    shadowed_image = noisy_image * shadow_intensity\n",
    "\n",
    "    return shadowed_image"
   ]
  },
  {
   "cell_type": "code",
   "execution_count": 4,
   "id": "ff8dda77",
   "metadata": {},
   "outputs": [],
   "source": [
    "def apply_random_perspective(image):\n",
    "        \n",
    "    height, width = image.shape[:2]\n",
    "\n",
    "    # Define the source and destination points for perspective transformation\n",
    "    src_points = np.float32([[0, 0], [width - 1, 0], [width - 1, height - 1], [0, height - 1]])\n",
    "\n",
    "    # Calculate the maximum displacement limit\n",
    "    max_displacement = int(min(width, height) * 0.3)\n",
    "\n",
    "    # Generate random positive displacements for each corner of the image\n",
    "    displacement_range = np.random.randint(0, max_displacement + 1, size=(4, 2))\n",
    "\n",
    "    dst_points = np.zeros((4, 2), dtype=np.float32)\n",
    "    \n",
    "    dst_points[0][0], dst_points[0][1] = src_points[0][0] + displacement_range[0][0], src_points[0][1] + displacement_range[0][1]\n",
    "    dst_points[1][0], dst_points[1][1] = src_points[1][0] - displacement_range[1][0], src_points[1][1] + displacement_range[1][1]\n",
    "    dst_points[2][0], dst_points[2][1] = src_points[2][0] - displacement_range[2][0], src_points[2][1] - displacement_range[2][1]\n",
    "    dst_points[3][0], dst_points[3][1] = src_points[3][0] + displacement_range[3][0], src_points[3][1] - displacement_range[3][1]\n",
    "    \n",
    "    # Generate random perspective transformation matrix\n",
    "    perspective_matrix = cv2.getPerspectiveTransform(src_points, dst_points)\n",
    "    \n",
    "    #  white mask\n",
    "    mask = cv2.warpPerspective(np.ones_like(image), perspective_matrix, (width, height))\n",
    "    # Fill the areas outside the transformed region with white\n",
    "\n",
    "    # Apply the perspective transformation to the image\n",
    "    transformed_image = cv2.warpPerspective(image, perspective_matrix, (width, height))\n",
    "    \n",
    "    # add the white background\n",
    "    transformed_image[np.where(mask == 0)] = 255\n",
    "    \n",
    "    # apply noise\n",
    "    transformed_image = augment_pdf_to_mobile(transformed_image)\n",
    "    \n",
    "    # crop\n",
    "    x_coordinates = dst_points[:, 0]\n",
    "    y_coordinates = dst_points[:, 1]\n",
    "\n",
    "    top_left = (np.min(y_coordinates), np.min(x_coordinates))\n",
    "    bottom_right = (np.max(y_coordinates), np.max(x_coordinates))\n",
    "    \n",
    "    transformed_image = transformed_image[int(top_left[0]):int(bottom_right[0]), int(top_left[1]):int(bottom_right[1])]\n",
    "\n",
    "    return transformed_image, dst_points"
   ]
  },
  {
   "cell_type": "code",
   "execution_count": 5,
   "id": "535331b7",
   "metadata": {},
   "outputs": [],
   "source": [
    "logo_path = r\"C:\\Users\\Florian Moga\\Downloads\\paypal logo 2.png\"\n",
    "logo = cv2.imread(logo_path)\n",
    "h, w, _ = logo.shape"
   ]
  },
  {
   "cell_type": "code",
   "execution_count": 8,
   "id": "80c2fa4d",
   "metadata": {},
   "outputs": [],
   "source": [
    "shadow_logo = augment_pdf_to_mobile(logo)\n",
    "cv2.imshow(\"shadowed\", shadow_logo)\n",
    "cv2.waitKey(0)\n",
    "cv2.destroyAllWindows()"
   ]
  },
  {
   "cell_type": "code",
   "execution_count": 10,
   "id": "b3266266",
   "metadata": {},
   "outputs": [],
   "source": [
    "perspective_logo, dst_points = apply_random_perspective(logo)\n",
    "cv2.imshow(\"perspective\", perspective_logo)\n",
    "cv2.waitKey(0)\n",
    "cv2.destroyAllWindows()"
   ]
  },
  {
   "cell_type": "code",
   "execution_count": 11,
   "id": "09dfba98",
   "metadata": {},
   "outputs": [],
   "source": [
    "ROOT, DST, DST_test = r\"S:\\Logo2k+ for classification\\train\", r\"S:\\Logo2k+ for classification augmentedv2\\train\", r\"S:\\Logo2k+ for classification augmentedv2\\test\"\n",
    "NUM_SAMPLES = 20"
   ]
  },
  {
   "cell_type": "code",
   "execution_count": 12,
   "id": "15ae1d89",
   "metadata": {},
   "outputs": [],
   "source": [
    "for directory in os.listdir(ROOT):\n",
    "    \n",
    "    root_dir_path = os.path.join(ROOT, directory)\n",
    "    dst_dir_path = os.path.join(DST, directory)\n",
    "    dst_testdir_path = os.path.join(DST_test, directory)\n",
    "\n",
    "    # choose a random logo from each folder\n",
    "    class_files = os.listdir(root_dir_path)\n",
    "    random_index = random.randint(0, len(class_files)-1)\n",
    "    photo_path = class_files[random_index]\n",
    "    \n",
    "    # copy it to DST\n",
    "    shutil.copy(os.path.join(root_dir_path, photo_path), os.path.join(dst_dir_path, photo_path))\n",
    "    \n",
    "    # augment it\n",
    "    photo = cv2.imread(os.path.join(root_dir_path, photo_path))\n",
    "    \n",
    "    #train\n",
    "    for i in range(NUM_SAMPLES//2):\n",
    "        perspective_logo, _ = apply_random_perspective(photo)\n",
    "        path = f\"perspective{i}_\"+photo_path\n",
    "        full_path = os.path.join(dst_dir_path, path)\n",
    "        cv2.imwrite(full_path, 255*perspective_logo)\n",
    "        \n",
    "        shadow_logo = augment_pdf_to_mobile(photo)\n",
    "        path = f\"shadowed{i}_\"+photo_path\n",
    "        full_path = os.path.join(dst_dir_path, path)\n",
    "        cv2.imwrite(full_path, 255*shadow_logo)\n",
    "        \n",
    "    # test\n",
    "    for i in range(NUM_SAMPLES//4):\n",
    "        shadow_logo = augment_pdf_to_mobile(photo)\n",
    "        path = f\"shadowed{i}_\"+photo_path\n",
    "        full_path = os.path.join(dst_testdir_path, path)\n",
    "        cv2.imwrite(full_path, 255*shadow_logo)\n",
    "        \n",
    "        perspective_logo, _ = apply_random_perspective(photo)\n",
    "        path = f\"perspective{i}_\"+photo_path\n",
    "        full_path = os.path.join(dst_testdir_path, path)\n",
    "        cv2.imwrite(full_path, 255*perspective_logo)\n"
   ]
  },
  {
   "cell_type": "code",
   "execution_count": 21,
   "id": "ec05d7f5",
   "metadata": {},
   "outputs": [
    {
     "data": {
      "text/plain": [
       "1"
      ]
     },
     "execution_count": 21,
     "metadata": {},
     "output_type": "execute_result"
    }
   ],
   "source": [
    "random.randint(1, 2)"
   ]
  },
  {
   "cell_type": "code",
   "execution_count": 42,
   "id": "f55e5158",
   "metadata": {},
   "outputs": [
    {
     "data": {
      "text/plain": [
       "'C:\\\\Users\\\\Florian Moga\\\\Desktop\\\\Code\\\\classes for embedding similarity augmented'"
      ]
     },
     "execution_count": 42,
     "metadata": {},
     "output_type": "execute_result"
    }
   ],
   "source": [
    "shutil.copytree(r\"C:\\Users\\Florian Moga\\Desktop\\Code\\classes for embedding similarity\",\n",
    "                r\"C:\\Users\\Florian Moga\\Desktop\\Code\\classes for embedding similarity augmented\",\n",
    "                ignore=ignore_files)"
   ]
  },
  {
   "cell_type": "code",
   "execution_count": 44,
   "id": "955d13bd",
   "metadata": {},
   "outputs": [],
   "source": [
    "ROOT, DST = r\"C:\\Users\\Florian Moga\\Desktop\\Code\\classes for embedding similarity\\untrained\", r\"C:\\Users\\Florian Moga\\Desktop\\Code\\classes for embedding similarity augmented\\untrained\"\n",
    "NUM_SAMPLES = 12"
   ]
  },
  {
   "cell_type": "code",
   "execution_count": 45,
   "id": "922b9ec0",
   "metadata": {},
   "outputs": [],
   "source": [
    "for directory in os.listdir(ROOT):\n",
    "    \n",
    "    root_dir_path = os.path.join(ROOT, directory)\n",
    "    dst_dir_path = os.path.join(DST, directory)\n",
    "\n",
    "    # choose a random logo from each folder\n",
    "    class_files = os.listdir(root_dir_path)\n",
    "    random_index = random.randint(0, len(class_files)-1)\n",
    "    photo_path = class_files[random_index]\n",
    "    \n",
    "    # copy it to DST\n",
    "    shutil.copy(os.path.join(root_dir_path, photo_path), os.path.join(dst_dir_path, photo_path))\n",
    "    \n",
    "    # augment it\n",
    "    photo = cv2.imread(os.path.join(root_dir_path, photo_path))\n",
    "    \n",
    "    #train\n",
    "    for i in range(NUM_SAMPLES//2):\n",
    "        perspective_logo, _ = apply_random_perspective(photo)\n",
    "        path = f\"perspective{i}_\"+photo_path\n",
    "        full_path = os.path.join(dst_dir_path, path)\n",
    "        cv2.imwrite(full_path, 255*perspective_logo)\n",
    "        \n",
    "        shadow_logo = augment_pdf_to_mobile(photo)\n",
    "        path = f\"shadowed{i}_\"+photo_path\n",
    "        full_path = os.path.join(dst_dir_path, path)\n",
    "        cv2.imwrite(full_path, 255*shadow_logo)\n",
    "\n"
   ]
  },
  {
   "cell_type": "code",
   "execution_count": null,
   "id": "17a1d9d0",
   "metadata": {},
   "outputs": [],
   "source": []
  }
 ],
 "metadata": {
  "kernelspec": {
   "display_name": "Python 3 (ipykernel)",
   "language": "python",
   "name": "python3"
  },
  "language_info": {
   "codemirror_mode": {
    "name": "ipython",
    "version": 3
   },
   "file_extension": ".py",
   "mimetype": "text/x-python",
   "name": "python",
   "nbconvert_exporter": "python",
   "pygments_lexer": "ipython3",
   "version": "3.10.10"
  }
 },
 "nbformat": 4,
 "nbformat_minor": 5
}
